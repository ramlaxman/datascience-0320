{
 "cells": [
  {
   "cell_type": "code",
   "execution_count": 2,
   "metadata": {},
   "outputs": [
    {
     "name": "stdout",
     "output_type": "stream",
     "text": [
      "Hello!\n"
     ]
    }
   ],
   "source": [
    "print(\"Hello!\")  # shift + enter == evaluate+run the cell"
   ]
  },
  {
   "cell_type": "code",
   "execution_count": 5,
   "metadata": {
    "scrolled": true
   },
   "outputs": [
    {
     "name": "stdout",
     "output_type": "stream",
     "text": [
      "Hello, Tom!\n",
      "Hello, Dick!\n",
      "Hello, Harry!\n",
      "Hello, Reuven!\n"
     ]
    }
   ],
   "source": [
    "def hello(name):   # enter == go down one line\n",
    "    return f'Hello, {name}!'  \n",
    "\n",
    "for one_name in ['Tom', 'Dick', 'Harry', 'Reuven']:\n",
    "    print(hello(one_name))  # shift + enter == run the cell"
   ]
  },
  {
   "cell_type": "code",
   "execution_count": 7,
   "metadata": {},
   "outputs": [],
   "source": [
    "# Jupyter command \"c\" copies the cell\n",
    "# Jupyter command \"v\" pastes the cell\n",
    "# Jupyter command \"x\" cuts the cell\n",
    "# Jupyter command \"z\" -- undo!\n",
    "\n",
    "# Jupyter command \"l' -- help\"\n",
    "# Jupyter command \"a\" -- add cell above\n",
    "# Jupyter command \"b\" -- add cell below"
   ]
  },
  {
   "cell_type": "code",
   "execution_count": 6,
   "metadata": {},
   "outputs": [],
   "source": [
    "# green outline : typing into the cell\n",
    "# blue outline: typing commands to Jupyter"
   ]
  },
  {
   "cell_type": "code",
   "execution_count": 6,
   "metadata": {},
   "outputs": [],
   "source": [
    "# green outline : typing into the cell\n",
    "# blue outline: typing commands to Jupyter"
   ]
  },
  {
   "cell_type": "code",
   "execution_count": 8,
   "metadata": {},
   "outputs": [
    {
     "name": "stdout",
     "output_type": "stream",
     "text": [
      "Populating the interactive namespace from numpy and matplotlib\n"
     ]
    }
   ],
   "source": [
    "# Jupyter \"magic\" commands all start with %\n",
    "\n",
    "# our most important magic command is:\n",
    "%pylab inline"
   ]
  },
  {
   "cell_type": "code",
   "execution_count": 9,
   "metadata": {},
   "outputs": [],
   "source": [
    "# warnings about Jupyter:\n",
    "\n",
    "# (1) Jupyter command \"r\" turns your cell into text, not code!\n",
    "#     Get back to coding with Jupyter command \"y\"\n",
    "\n",
    "# (2) If you shift+enter multiple times in quick succession, you\n",
    "#     will wedge Jupyter's Web interface.  You'll know this if\n",
    "#    you see [*] on the left.  Use Kernel->Interrupt or\n",
    "#     Kernel->Restart to make things work.\n"
   ]
  },
  {
   "cell_type": "code",
   "execution_count": null,
   "metadata": {},
   "outputs": [],
   "source": [
    "# Exercise/practice/setup:\n",
    "\n",
    "# (1) Install Jupyter (if you haven't already)\n",
    "#     pip install jupyter (from the command line)\n",
    "# (2) Run Jupyter from a terminal/cmd window\n",
    "#    jupyter notebook\n",
    "# (3) Start a new notebook\n",
    "#    New-> Python 3 notebook\n",
    "# (4) Write a simple \"Hello, world\" function (like mine, above)\n",
    "#  that takes a name and returns a string with that name in it.\n",
    "#  Run the function, as well.\n"
   ]
  },
  {
   "cell_type": "code",
   "execution_count": 10,
   "metadata": {},
   "outputs": [],
   "source": [
    "# from the command line\n",
    "# pip install -U numpy"
   ]
  },
  {
   "cell_type": "code",
   "execution_count": 11,
   "metadata": {},
   "outputs": [],
   "source": [
    "# don't do this!\n",
    "# import numpy   "
   ]
  },
  {
   "cell_type": "code",
   "execution_count": 12,
   "metadata": {},
   "outputs": [],
   "source": [
    "# everyone does this!\n",
    "import numpy as np"
   ]
  },
  {
   "cell_type": "code",
   "execution_count": 13,
   "metadata": {},
   "outputs": [
    {
     "data": {
      "text/plain": [
       "<module 'numpy' from '/usr/local/lib/python3.7/site-packages/numpy/__init__.py'>"
      ]
     },
     "execution_count": 13,
     "metadata": {},
     "output_type": "execute_result"
    }
   ],
   "source": [
    "np"
   ]
  },
  {
   "cell_type": "code",
   "execution_count": 14,
   "metadata": {},
   "outputs": [
    {
     "name": "stdout",
     "output_type": "stream",
     "text": [
      "Populating the interactive namespace from numpy and matplotlib\n"
     ]
    }
   ],
   "source": [
    "# you don't even need to do that in Jupyter!  You can say\n",
    "%pylab inline"
   ]
  },
  {
   "cell_type": "code",
   "execution_count": null,
   "metadata": {},
   "outputs": [],
   "source": []
  }
 ],
 "metadata": {
  "kernelspec": {
   "display_name": "Python 3",
   "language": "python",
   "name": "python3"
  },
  "language_info": {
   "codemirror_mode": {
    "name": "ipython",
    "version": 3
   },
   "file_extension": ".py",
   "mimetype": "text/x-python",
   "name": "python",
   "nbconvert_exporter": "python",
   "pygments_lexer": "ipython3",
   "version": "3.7.6"
  }
 },
 "nbformat": 4,
 "nbformat_minor": 2
}
