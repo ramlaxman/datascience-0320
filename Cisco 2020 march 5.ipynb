{
 "cells": [
  {
   "cell_type": "code",
   "execution_count": 1,
   "metadata": {},
   "outputs": [],
   "source": [
    "# train_test_split -- takes an X (inputs/examples) and y (outputs/answers)\n",
    "#  returns X_train, X_test, y_train, y_test\n",
    "#  train with X_train and y_train\n",
    "#  test with X_test and y_test\n",
    "#   we can check -- are the results (y_pred) the same as y_test?\n",
    "#   if not the same, how close?\n",
    "\n",
    "# cross_val_score -- function that does the same sort of testing\n",
    "#  as train_test_split, but we don't have to do as much.  We can\n",
    "#  swap out the algorithm for a different testing strategy\n",
    "\n",
    "# the default strategy is StratifiedKFold, which means: create n\n",
    "#  groups, each group *MUST* have at least one rep from each class\n",
    "#  (category)\n",
    "\n",
    "# another strategy is LeaveOneOut -- train with all but one\n",
    "#  of the data points, and test with one data point.  With n\n",
    "#  data points, we'll do n iterations, each giving 0/1 for \n",
    "#  successful prediction"
   ]
  },
  {
   "cell_type": "code",
   "execution_count": 3,
   "metadata": {},
   "outputs": [
    {
     "name": "stdout",
     "output_type": "stream",
     "text": [
      "Populating the interactive namespace from numpy and matplotlib\n"
     ]
    },
    {
     "data": {
      "text/plain": [
       "count    5.000000\n",
       "mean     0.973333\n",
       "std      0.027889\n",
       "min      0.933333\n",
       "25%      0.966667\n",
       "50%      0.966667\n",
       "75%      1.000000\n",
       "max      1.000000\n",
       "dtype: float64"
      ]
     },
     "execution_count": 3,
     "metadata": {},
     "output_type": "execute_result"
    }
   ],
   "source": [
    "%pylab inline\n",
    "import pandas as pd\n",
    "from pandas import Series, DataFrame\n",
    "\n",
    "from sklearn.datasets import load_iris\n",
    "from sklearn.neighbors import KNeighborsClassifier\n",
    "from sklearn.model_selection import cross_val_score\n",
    "\n",
    "iris = load_iris()\n",
    "X = DataFrame(iris.data, columns=iris.feature_names)\n",
    "y = Series(iris.target)\n",
    "\n",
    "model = KNeighborsClassifier()  # default: k=5\n",
    "\n",
    "results = cross_val_score(model, X, y, cv=5)  # divide into 5 parts\n",
    "Series(results).describe()"
   ]
  },
  {
   "cell_type": "code",
   "execution_count": 4,
   "metadata": {},
   "outputs": [
    {
     "name": "stdout",
     "output_type": "stream",
     "text": [
      "Populating the interactive namespace from numpy and matplotlib\n"
     ]
    },
    {
     "data": {
      "text/plain": [
       "count    5.000000\n",
       "mean     0.973333\n",
       "std      0.027889\n",
       "min      0.933333\n",
       "25%      0.966667\n",
       "50%      0.966667\n",
       "75%      1.000000\n",
       "max      1.000000\n",
       "dtype: float64"
      ]
     },
     "execution_count": 4,
     "metadata": {},
     "output_type": "execute_result"
    }
   ],
   "source": [
    "%pylab inline\n",
    "import pandas as pd\n",
    "from pandas import Series, DataFrame\n",
    "\n",
    "from sklearn.datasets import load_iris\n",
    "from sklearn.neighbors import KNeighborsClassifier\n",
    "from sklearn.model_selection import cross_val_score, KFold, StratifiedKFold, LeaveOneOut\n",
    "\n",
    "strategy = StratifiedKFold()\n",
    "\n",
    "iris = load_iris()\n",
    "X = DataFrame(iris.data, columns=iris.feature_names)\n",
    "y = Series(iris.target)\n",
    "\n",
    "model = KNeighborsClassifier()  # default: k=5\n",
    "\n",
    "results = cross_val_score(model, X, y, cv=strategy)  # divide into 5 parts\n",
    "Series(results).describe()"
   ]
  },
  {
   "cell_type": "code",
   "execution_count": 7,
   "metadata": {},
   "outputs": [
    {
     "name": "stdout",
     "output_type": "stream",
     "text": [
      "Populating the interactive namespace from numpy and matplotlib\n"
     ]
    },
    {
     "data": {
      "text/plain": [
       "count    3.000000\n",
       "mean     0.966667\n",
       "std      0.011547\n",
       "min      0.960000\n",
       "25%      0.960000\n",
       "50%      0.960000\n",
       "75%      0.970000\n",
       "max      0.980000\n",
       "dtype: float64"
      ]
     },
     "execution_count": 7,
     "metadata": {},
     "output_type": "execute_result"
    }
   ],
   "source": [
    "%pylab inline\n",
    "import pandas as pd\n",
    "from pandas import Series, DataFrame\n",
    "\n",
    "from sklearn.datasets import load_iris\n",
    "from sklearn.neighbors import KNeighborsClassifier\n",
    "from sklearn.model_selection import cross_val_score, KFold, StratifiedKFold, LeaveOneOut\n",
    "\n",
    "strategy = KFold(n_splits=3, shuffle=True)\n",
    "\n",
    "iris = load_iris()\n",
    "X = DataFrame(iris.data, columns=iris.feature_names)\n",
    "y = Series(iris.target)\n",
    "\n",
    "model = KNeighborsClassifier()  \n",
    "\n",
    "results = cross_val_score(model, X, y, cv=strategy)  # divide into 5 parts\n",
    "Series(results).describe()"
   ]
  },
  {
   "cell_type": "code",
   "execution_count": 8,
   "metadata": {
    "collapsed": true
   },
   "outputs": [
    {
     "name": "stdout",
     "output_type": "stream",
     "text": [
      "Populating the interactive namespace from numpy and matplotlib\n"
     ]
    },
    {
     "data": {
      "text/plain": [
       "count    150.000000\n",
       "mean       0.966667\n",
       "std        0.180107\n",
       "min        0.000000\n",
       "25%        1.000000\n",
       "50%        1.000000\n",
       "75%        1.000000\n",
       "max        1.000000\n",
       "dtype: float64"
      ]
     },
     "execution_count": 8,
     "metadata": {},
     "output_type": "execute_result"
    }
   ],
   "source": [
    "%pylab inline\n",
    "import pandas as pd\n",
    "from pandas import Series, DataFrame\n",
    "\n",
    "from sklearn.datasets import load_iris\n",
    "from sklearn.neighbors import KNeighborsClassifier\n",
    "from sklearn.model_selection import cross_val_score, KFold, StratifiedKFold, LeaveOneOut\n",
    "\n",
    "strategy = LeaveOneOut()\n",
    "\n",
    "iris = load_iris()\n",
    "X = DataFrame(iris.data, columns=iris.feature_names)\n",
    "y = Series(iris.target)\n",
    "\n",
    "# model = KNeighborsClassifier(n_neighbors=11)\n",
    "model = KNeighborsClassifier()  \n",
    "\n",
    "results = cross_val_score(model, X, y, cv=strategy)  # divide into 5 parts\n",
    "Series(results).describe()\n",
    "\n",
    "# Use a \"for\" loop to iterate over all k values from 1 to 23\n",
    "# Use cross_val_score and LeaveOneOut to identify the best\n",
    "# value of k (highest mean, lowest std, lowest k)"
   ]
  },
  {
   "cell_type": "code",
   "execution_count": null,
   "metadata": {},
   "outputs": [],
   "source": []
  },
  {
   "cell_type": "code",
   "execution_count": 10,
   "metadata": {},
   "outputs": [
    {
     "name": "stdout",
     "output_type": "stream",
     "text": [
      "1 3 5 7 9 11 13 15 17 19 21 23 "
     ]
    }
   ],
   "source": [
    "from sklearn.datasets import load_iris\n",
    "from sklearn.neighbors import KNeighborsClassifier\n",
    "from sklearn.model_selection import cross_val_score, KFold, StratifiedKFold, LeaveOneOut\n",
    "\n",
    "strategy = LeaveOneOut()\n",
    "\n",
    "iris = load_iris()\n",
    "X = DataFrame(iris.data, columns=iris.feature_names)\n",
    "y = Series(iris.target)\n",
    "\n",
    "all_results = []\n",
    "for k in range(1, 24, 2):\n",
    "    print(k, end=' ')\n",
    "    model = KNeighborsClassifier(n_neighbors=k)\n",
    "\n",
    "    results = cross_val_score(model, X, y, cv=strategy)  # divide into 5 parts\n",
    "    all_results.append({'k':k, \n",
    "                        'mean':results.mean(), \n",
    "                        'std':results.std()})\n",
    "\n",
    "# Use a \"for\" loop to iterate over all k values from 1 to 23\n",
    "# Use cross_val_score and LeaveOneOut to identify the best\n",
    "# value of k (highest mean, lowest std, lowest k)"
   ]
  },
  {
   "cell_type": "code",
   "execution_count": 13,
   "metadata": {},
   "outputs": [
    {
     "data": {
      "text/html": [
       "<div>\n",
       "<style scoped>\n",
       "    .dataframe tbody tr th:only-of-type {\n",
       "        vertical-align: middle;\n",
       "    }\n",
       "\n",
       "    .dataframe tbody tr th {\n",
       "        vertical-align: top;\n",
       "    }\n",
       "\n",
       "    .dataframe thead th {\n",
       "        text-align: right;\n",
       "    }\n",
       "</style>\n",
       "<table border=\"1\" class=\"dataframe\">\n",
       "  <thead>\n",
       "    <tr style=\"text-align: right;\">\n",
       "      <th></th>\n",
       "      <th>mean</th>\n",
       "      <th>std</th>\n",
       "    </tr>\n",
       "    <tr>\n",
       "      <th>k</th>\n",
       "      <th></th>\n",
       "      <th></th>\n",
       "    </tr>\n",
       "  </thead>\n",
       "  <tbody>\n",
       "    <tr>\n",
       "      <th>1</th>\n",
       "      <td>0.960000</td>\n",
       "      <td>0.195959</td>\n",
       "    </tr>\n",
       "    <tr>\n",
       "      <th>3</th>\n",
       "      <td>0.960000</td>\n",
       "      <td>0.195959</td>\n",
       "    </tr>\n",
       "    <tr>\n",
       "      <th>5</th>\n",
       "      <td>0.966667</td>\n",
       "      <td>0.179505</td>\n",
       "    </tr>\n",
       "    <tr>\n",
       "      <th>7</th>\n",
       "      <td>0.966667</td>\n",
       "      <td>0.179505</td>\n",
       "    </tr>\n",
       "    <tr>\n",
       "      <th>9</th>\n",
       "      <td>0.966667</td>\n",
       "      <td>0.179505</td>\n",
       "    </tr>\n",
       "    <tr>\n",
       "      <th>11</th>\n",
       "      <td>0.973333</td>\n",
       "      <td>0.161107</td>\n",
       "    </tr>\n",
       "    <tr>\n",
       "      <th>13</th>\n",
       "      <td>0.966667</td>\n",
       "      <td>0.179505</td>\n",
       "    </tr>\n",
       "    <tr>\n",
       "      <th>15</th>\n",
       "      <td>0.973333</td>\n",
       "      <td>0.161107</td>\n",
       "    </tr>\n",
       "    <tr>\n",
       "      <th>17</th>\n",
       "      <td>0.973333</td>\n",
       "      <td>0.161107</td>\n",
       "    </tr>\n",
       "    <tr>\n",
       "      <th>19</th>\n",
       "      <td>0.980000</td>\n",
       "      <td>0.140000</td>\n",
       "    </tr>\n",
       "    <tr>\n",
       "      <th>21</th>\n",
       "      <td>0.980000</td>\n",
       "      <td>0.140000</td>\n",
       "    </tr>\n",
       "    <tr>\n",
       "      <th>23</th>\n",
       "      <td>0.966667</td>\n",
       "      <td>0.179505</td>\n",
       "    </tr>\n",
       "  </tbody>\n",
       "</table>\n",
       "</div>"
      ],
      "text/plain": [
       "        mean       std\n",
       "k                     \n",
       "1   0.960000  0.195959\n",
       "3   0.960000  0.195959\n",
       "5   0.966667  0.179505\n",
       "7   0.966667  0.179505\n",
       "9   0.966667  0.179505\n",
       "11  0.973333  0.161107\n",
       "13  0.966667  0.179505\n",
       "15  0.973333  0.161107\n",
       "17  0.973333  0.161107\n",
       "19  0.980000  0.140000\n",
       "21  0.980000  0.140000\n",
       "23  0.966667  0.179505"
      ]
     },
     "execution_count": 13,
     "metadata": {},
     "output_type": "execute_result"
    }
   ],
   "source": [
    "df = DataFrame(all_results).set_index('k')\n",
    "df"
   ]
  },
  {
   "cell_type": "code",
   "execution_count": 14,
   "metadata": {},
   "outputs": [
    {
     "data": {
      "text/plain": [
       "<matplotlib.axes._subplots.AxesSubplot at 0x12e205f90>"
      ]
     },
     "execution_count": 14,
     "metadata": {},
     "output_type": "execute_result"
    },
    {
     "data": {
      "image/png": "[encoded data removed]",
      "text/plain": [
       "<Figure size 432x288 with 1 Axes>"
      ]
     },
     "metadata": {
      "needs_background": "light"
     },
     "output_type": "display_data"
    }
   ],
   "source": [
    "df['mean'].plot.line()"
   ]
  },
  {
   "cell_type": "code",
   "execution_count": 17,
   "metadata": {},
   "outputs": [],
   "source": [
    "from sklearn.datasets import load_iris\n",
    "from sklearn.neighbors import KNeighborsClassifier\n",
    "from sklearn.model_selection import cross_validate, cross_val_score, KFold, StratifiedKFold, LeaveOneOut\n",
    "\n",
    "strategy = StratifiedKFold()\n",
    "\n",
    "iris = load_iris()\n",
    "X = DataFrame(iris.data, columns=iris.feature_names)\n",
    "y = Series(iris.target)\n",
    "\n",
    "model = KNeighborsClassifier()  \n",
    "\n",
    "results = cross_validate(model, X, y, cv=strategy)  # divide into 5 parts\n"
   ]
  },
  {
   "cell_type": "code",
   "execution_count": 18,
   "metadata": {},
   "outputs": [
    {
     "data": {
      "text/plain": [
       "{'fit_time': array([0.01580596, 0.01308513, 0.01501799, 0.05276299, 0.00981498]),\n",
       " 'score_time': array([0.01788592, 0.02835894, 0.05560994, 0.02706718, 0.01465082]),\n",
       " 'test_score': array([0.96666667, 1.        , 0.93333333, 0.96666667, 1.        ])}"
      ]
     },
     "execution_count": 18,
     "metadata": {},
     "output_type": "execute_result"
    }
   ],
   "source": [
    "results"
   ]
  },
  {
   "cell_type": "code",
   "execution_count": 19,
   "metadata": {},
   "outputs": [
    {
     "data": {
      "text/html": [
       "<div>\n",
       "<style scoped>\n",
       "    .dataframe tbody tr th:only-of-type {\n",
       "        vertical-align: middle;\n",
       "    }\n",
       "\n",
       "    .dataframe tbody tr th {\n",
       "        vertical-align: top;\n",
       "    }\n",
       "\n",
       "    .dataframe thead th {\n",
       "        text-align: right;\n",
       "    }\n",
       "</style>\n",
       "<table border=\"1\" class=\"dataframe\">\n",
       "  <thead>\n",
       "    <tr style=\"text-align: right;\">\n",
       "      <th></th>\n",
       "      <th>fit_time</th>\n",
       "      <th>score_time</th>\n",
       "      <th>test_score</th>\n",
       "    </tr>\n",
       "  </thead>\n",
       "  <tbody>\n",
       "    <tr>\n",
       "      <th>0</th>\n",
       "      <td>0.015806</td>\n",
       "      <td>0.017886</td>\n",
       "      <td>0.966667</td>\n",
       "    </tr>\n",
       "    <tr>\n",
       "      <th>1</th>\n",
       "      <td>0.013085</td>\n",
       "      <td>0.028359</td>\n",
       "      <td>1.000000</td>\n",
       "    </tr>\n",
       "    <tr>\n",
       "      <th>2</th>\n",
       "      <td>0.015018</td>\n",
       "      <td>0.055610</td>\n",
       "      <td>0.933333</td>\n",
       "    </tr>\n",
       "    <tr>\n",
       "      <th>3</th>\n",
       "      <td>0.052763</td>\n",
       "      <td>0.027067</td>\n",
       "      <td>0.966667</td>\n",
       "    </tr>\n",
       "    <tr>\n",
       "      <th>4</th>\n",
       "      <td>0.009815</td>\n",
       "      <td>0.014651</td>\n",
       "      <td>1.000000</td>\n",
       "    </tr>\n",
       "  </tbody>\n",
       "</table>\n",
       "</div>"
      ],
      "text/plain": [
       "   fit_time  score_time  test_score\n",
       "0  0.015806    0.017886    0.966667\n",
       "1  0.013085    0.028359    1.000000\n",
       "2  0.015018    0.055610    0.933333\n",
       "3  0.052763    0.027067    0.966667\n",
       "4  0.009815    0.014651    1.000000"
      ]
     },
     "execution_count": 19,
     "metadata": {},
     "output_type": "execute_result"
    }
   ],
   "source": [
    "DataFrame(results)"
   ]
  },
  {
   "cell_type": "code",
   "execution_count": 21,
   "metadata": {},
   "outputs": [
    {
     "data": {
      "text/html": [
       "<div>\n",
       "<style scoped>\n",
       "    .dataframe tbody tr th:only-of-type {\n",
       "        vertical-align: middle;\n",
       "    }\n",
       "\n",
       "    .dataframe tbody tr th {\n",
       "        vertical-align: top;\n",
       "    }\n",
       "\n",
       "    .dataframe thead th {\n",
       "        text-align: right;\n",
       "    }\n",
       "</style>\n",
       "<table border=\"1\" class=\"dataframe\">\n",
       "  <thead>\n",
       "    <tr style=\"text-align: right;\">\n",
       "      <th></th>\n",
       "      <th>fit_time</th>\n",
       "      <th>score_time</th>\n",
       "      <th>test_score</th>\n",
       "      <th>train_score</th>\n",
       "    </tr>\n",
       "  </thead>\n",
       "  <tbody>\n",
       "    <tr>\n",
       "      <th>0</th>\n",
       "      <td>0.008005</td>\n",
       "      <td>0.018493</td>\n",
       "      <td>0.966667</td>\n",
       "      <td>0.966667</td>\n",
       "    </tr>\n",
       "    <tr>\n",
       "      <th>1</th>\n",
       "      <td>0.007895</td>\n",
       "      <td>0.011457</td>\n",
       "      <td>1.000000</td>\n",
       "      <td>0.966667</td>\n",
       "    </tr>\n",
       "    <tr>\n",
       "      <th>2</th>\n",
       "      <td>0.010417</td>\n",
       "      <td>0.012367</td>\n",
       "      <td>0.933333</td>\n",
       "      <td>0.975000</td>\n",
       "    </tr>\n",
       "    <tr>\n",
       "      <th>3</th>\n",
       "      <td>0.008073</td>\n",
       "      <td>0.012160</td>\n",
       "      <td>0.966667</td>\n",
       "      <td>0.975000</td>\n",
       "    </tr>\n",
       "    <tr>\n",
       "      <th>4</th>\n",
       "      <td>0.006127</td>\n",
       "      <td>0.009114</td>\n",
       "      <td>1.000000</td>\n",
       "      <td>0.966667</td>\n",
       "    </tr>\n",
       "  </tbody>\n",
       "</table>\n",
       "</div>"
      ],
      "text/plain": [
       "   fit_time  score_time  test_score  train_score\n",
       "0  0.008005    0.018493    0.966667     0.966667\n",
       "1  0.007895    0.011457    1.000000     0.966667\n",
       "2  0.010417    0.012367    0.933333     0.975000\n",
       "3  0.008073    0.012160    0.966667     0.975000\n",
       "4  0.006127    0.009114    1.000000     0.966667"
      ]
     },
     "execution_count": 21,
     "metadata": {},
     "output_type": "execute_result"
    }
   ],
   "source": [
    "from sklearn.datasets import load_iris\n",
    "from sklearn.neighbors import KNeighborsClassifier\n",
    "from sklearn.model_selection import cross_validate, cross_val_score, KFold, StratifiedKFold, LeaveOneOut\n",
    "\n",
    "strategy = StratifiedKFold()\n",
    "\n",
    "iris = load_iris()\n",
    "X = DataFrame(iris.data, columns=iris.feature_names)\n",
    "y = Series(iris.target)\n",
    "\n",
    "model = KNeighborsClassifier()  \n",
    "\n",
    "results = cross_validate(model, X, y, cv=strategy, \n",
    "                         return_train_score=True)  # divide into 5 parts\n",
    "DataFrame(results)"
   ]
  },
  {
   "cell_type": "code",
   "execution_count": null,
   "metadata": {},
   "outputs": [],
   "source": [
    "# parametric model -- short and simple, usually using a \n",
    "#  mathematical equation to decide what's in each class.\n",
    "\n",
    "# works well with regular, easily described data.\n",
    "\n",
    "# LogisticRegression\n",
    "\n",
    "\n",
    "\n",
    "# non-parametric model -- can be complex and use extra memory\n",
    "#  or time.  \n",
    "\n",
    "# works well with all sorts of data, including when it's not\n",
    "# regularly distributed\n",
    "\n",
    "# KNeighborsClassifier is non-parametric"
   ]
  },
  {
   "cell_type": "code",
   "execution_count": 23,
   "metadata": {},
   "outputs": [
    {
     "data": {
      "text/html": [
       "<div>\n",
       "<style scoped>\n",
       "    .dataframe tbody tr th:only-of-type {\n",
       "        vertical-align: middle;\n",
       "    }\n",
       "\n",
       "    .dataframe tbody tr th {\n",
       "        vertical-align: top;\n",
       "    }\n",
       "\n",
       "    .dataframe thead th {\n",
       "        text-align: right;\n",
       "    }\n",
       "</style>\n",
       "<table border=\"1\" class=\"dataframe\">\n",
       "  <thead>\n",
       "    <tr style=\"text-align: right;\">\n",
       "      <th></th>\n",
       "      <th>fit_time</th>\n",
       "      <th>score_time</th>\n",
       "      <th>test_score</th>\n",
       "      <th>train_score</th>\n",
       "    </tr>\n",
       "  </thead>\n",
       "  <tbody>\n",
       "    <tr>\n",
       "      <th>0</th>\n",
       "      <td>0.024637</td>\n",
       "      <td>0.004684</td>\n",
       "      <td>1.000000</td>\n",
       "      <td>0.950000</td>\n",
       "    </tr>\n",
       "    <tr>\n",
       "      <th>1</th>\n",
       "      <td>0.023267</td>\n",
       "      <td>0.018279</td>\n",
       "      <td>0.966667</td>\n",
       "      <td>0.966667</td>\n",
       "    </tr>\n",
       "    <tr>\n",
       "      <th>2</th>\n",
       "      <td>0.015062</td>\n",
       "      <td>0.004546</td>\n",
       "      <td>0.933333</td>\n",
       "      <td>0.966667</td>\n",
       "    </tr>\n",
       "    <tr>\n",
       "      <th>3</th>\n",
       "      <td>0.015072</td>\n",
       "      <td>0.003305</td>\n",
       "      <td>0.900000</td>\n",
       "      <td>0.975000</td>\n",
       "    </tr>\n",
       "    <tr>\n",
       "      <th>4</th>\n",
       "      <td>0.009636</td>\n",
       "      <td>0.002806</td>\n",
       "      <td>1.000000</td>\n",
       "      <td>0.958333</td>\n",
       "    </tr>\n",
       "  </tbody>\n",
       "</table>\n",
       "</div>"
      ],
      "text/plain": [
       "   fit_time  score_time  test_score  train_score\n",
       "0  0.024637    0.004684    1.000000     0.950000\n",
       "1  0.023267    0.018279    0.966667     0.966667\n",
       "2  0.015062    0.004546    0.933333     0.966667\n",
       "3  0.015072    0.003305    0.900000     0.975000\n",
       "4  0.009636    0.002806    1.000000     0.958333"
      ]
     },
     "execution_count": 23,
     "metadata": {},
     "output_type": "execute_result"
    }
   ],
   "source": [
    "from sklearn.datasets import load_iris\n",
    "from sklearn.neighbors import KNeighborsClassifier\n",
    "from sklearn.linear_model import LogisticRegression\n",
    "from sklearn.model_selection import cross_validate, cross_val_score, KFold, StratifiedKFold, LeaveOneOut\n",
    "\n",
    "strategy = StratifiedKFold()\n",
    "\n",
    "iris = load_iris()\n",
    "X = DataFrame(iris.data, columns=iris.feature_names)\n",
    "y = Series(iris.target)\n",
    "\n",
    "model = LogisticRegression(solver='liblinear')  \n",
    "\n",
    "results = cross_validate(model, X, y, cv=strategy, \n",
    "                         return_train_score=True) \n",
    "DataFrame(results)"
   ]
  },
  {
   "cell_type": "code",
   "execution_count": 24,
   "metadata": {},
   "outputs": [
    {
     "data": {
      "text/plain": [
       "fit_time       0.017535\n",
       "score_time     0.006724\n",
       "test_score     0.960000\n",
       "train_score    0.963333\n",
       "dtype: float64"
      ]
     },
     "execution_count": 24,
     "metadata": {},
     "output_type": "execute_result"
    }
   ],
   "source": [
    "DataFrame(results).mean()"
   ]
  },
  {
   "cell_type": "code",
   "execution_count": 25,
   "metadata": {},
   "outputs": [
    {
     "data": {
      "text/plain": [
       "fit_time       0.014668\n",
       "score_time     0.017899\n",
       "test_score     0.966667\n",
       "train_score    0.975000\n",
       "dtype: float64"
      ]
     },
     "execution_count": 25,
     "metadata": {},
     "output_type": "execute_result"
    }
   ],
   "source": [
    "from sklearn.datasets import load_iris\n",
    "from sklearn.neighbors import KNeighborsClassifier\n",
    "from sklearn.linear_model import LogisticRegression\n",
    "from sklearn.model_selection import cross_validate, cross_val_score, KFold, StratifiedKFold, LeaveOneOut\n",
    "\n",
    "strategy = StratifiedKFold()\n",
    "\n",
    "iris = load_iris()\n",
    "X = DataFrame(iris.data, columns=iris.feature_names)\n",
    "y = Series(iris.target)\n",
    "\n",
    "model = KNeighborsClassifier(n_neighbors=17)\n",
    "\n",
    "results = cross_validate(model, X, y, cv=strategy, \n",
    "                         return_train_score=True) \n",
    "DataFrame(results).mean()"
   ]
  },
  {
   "cell_type": "code",
   "execution_count": null,
   "metadata": {},
   "outputs": [],
   "source": [
    "# Use Logistic Regression to make iris predictions\n",
    "# How does it do?\n"
   ]
  },
  {
   "cell_type": "code",
   "execution_count": 28,
   "metadata": {},
   "outputs": [
    {
     "name": "stdout",
     "output_type": "stream",
     "text": [
      "KNeighborsClassifier: mean 0.9733333333333334, std 0.02494438257849294\n",
      "LogisticRegression  : mean 0.9600000000000002, std 0.038873012632301994\n"
     ]
    }
   ],
   "source": [
    "from sklearn.datasets import load_iris\n",
    "from sklearn.neighbors import KNeighborsClassifier\n",
    "from sklearn.linear_model import LogisticRegression\n",
    "from sklearn.model_selection import cross_validate, cross_val_score, KFold, StratifiedKFold, LeaveOneOut\n",
    "\n",
    "strategy = StratifiedKFold()\n",
    "\n",
    "iris = load_iris()\n",
    "X = DataFrame(iris.data, columns=iris.feature_names)\n",
    "y = Series(iris.target)\n",
    "\n",
    "knn = KNeighborsClassifier()\n",
    "lr = LogisticRegression(solver='liblinear')  \n",
    "\n",
    "for model in [knn, lr]:\n",
    "    results = cross_val_score(model, X, y, cv=strategy)\n",
    "    print(f'{model.__class__.__name__:20}: mean {results.mean()}, std {results.std()}')"
   ]
  },
  {
   "cell_type": "code",
   "execution_count": 30,
   "metadata": {},
   "outputs": [],
   "source": [
    "# CART -- classification and regression trees\n",
    "#   aka \"decision trees\"\n",
    "\n",
    "# when we train (fit) a decision-tree model, \n",
    "# the model looks at all variables and values\n",
    "\n",
    "# it finds the best split between Y/N (or </>) for the\n",
    "# current data\n",
    "\n",
    "# non-parametrics\n",
    "\n",
    "from sklearn.tree import DecisionTreeClassifier\n",
    "model = DecisionTreeClassifier()"
   ]
  },
  {
   "cell_type": "code",
   "execution_count": 31,
   "metadata": {},
   "outputs": [],
   "source": [
    "# SVM -- simple vector machines\n",
    "# very popular nowadays, especially with relative few data points\n",
    "\n",
    "from sklearn.svm import SVC   # SVM classifier\n",
    "model = SVC()"
   ]
  },
  {
   "cell_type": "code",
   "execution_count": 32,
   "metadata": {},
   "outputs": [],
   "source": [
    "# (1) Copy the test harness that I created above with\n",
    "# logistic regression and KNeighborsClassifier.  Add\n",
    "# DecisionTree Classifier and SVC to those.\n",
    "\n",
    "# (If you encounter problems/warnings/errors, let me know -- \n",
    "# I'll help you to fix them.)\n",
    "\n",
    "# Question: Which of these models has the highest mean \n",
    "# prediction accuracy, with the lowest standard deviation?"
   ]
  },
  {
   "cell_type": "code",
   "execution_count": null,
   "metadata": {},
   "outputs": [],
   "source": []
  }
 ],
 "metadata": {
  "kernelspec": {
   "display_name": "Python 3",
   "language": "python",
   "name": "python3"
  },
  "language_info": {
   "codemirror_mode": {
    "name": "ipython",
    "version": 3
   },
   "file_extension": ".py",
   "mimetype": "text/x-python",
   "name": "python",
   "nbconvert_exporter": "python",
   "pygments_lexer": "ipython3",
   "version": "3.7.6"
  }
 },
 "nbformat": 4,
 "nbformat_minor": 2
}
