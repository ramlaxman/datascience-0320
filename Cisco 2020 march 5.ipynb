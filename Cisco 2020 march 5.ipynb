{
 "cells": [
  {
   "cell_type": "code",
   "execution_count": 1,
   "metadata": {},
   "outputs": [],
   "source": [
    "# train_test_split -- takes an X (inputs/examples) and y (outputs/answers)\n",
    "#  returns X_train, X_test, y_train, y_test\n",
    "#  train with X_train and y_train\n",
    "#  test with X_test and y_test\n",
    "#   we can check -- are the results (y_pred) the same as y_test?\n",
    "#   if not the same, how close?\n",
    "\n",
    "# cross_val_score -- function that does the same sort of testing\n",
    "#  as train_test_split, but we don't have to do as much.  We can\n",
    "#  swap out the algorithm for a different testing strategy\n",
    "\n",
    "# the default strategy is StratifiedKFold, which means: create n\n",
    "#  groups, each group *MUST* have at least one rep from each class\n",
    "#  (category)\n",
    "\n",
    "# another strategy is LeaveOneOut -- train with all but one\n",
    "#  of the data points, and test with one data point.  With n\n",
    "#  data points, we'll do n iterations, each giving 0/1 for \n",
    "#  successful prediction"
   ]
  },
  {
   "cell_type": "code",
   "execution_count": 3,
   "metadata": {},
   "outputs": [
    {
     "name": "stdout",
     "output_type": "stream",
     "text": [
      "Populating the interactive namespace from numpy and matplotlib\n"
     ]
    },
    {
     "data": {
      "text/plain": [
       "count    5.000000\n",
       "mean     0.973333\n",
       "std      0.027889\n",
       "min      0.933333\n",
       "25%      0.966667\n",
       "50%      0.966667\n",
       "75%      1.000000\n",
       "max      1.000000\n",
       "dtype: float64"
      ]
     },
     "execution_count": 3,
     "metadata": {},
     "output_type": "execute_result"
    }
   ],
   "source": [
    "%pylab inline\n",
    "import pandas as pd\n",
    "from pandas import Series, DataFrame\n",
    "\n",
    "from sklearn.datasets import load_iris\n",
    "from sklearn.neighbors import KNeighborsClassifier\n",
    "from sklearn.model_selection import cross_val_score\n",
    "\n",
    "iris = load_iris()\n",
    "X = DataFrame(iris.data, columns=iris.feature_names)\n",
    "y = Series(iris.target)\n",
    "\n",
    "model = KNeighborsClassifier()  # default: k=5\n",
    "\n",
    "results = cross_val_score(model, X, y, cv=5)  # divide into 5 parts\n",
    "Series(results).describe()"
   ]
  },
  {
   "cell_type": "code",
   "execution_count": 4,
   "metadata": {},
   "outputs": [
    {
     "name": "stdout",
     "output_type": "stream",
     "text": [
      "Populating the interactive namespace from numpy and matplotlib\n"
     ]
    },
    {
     "data": {
      "text/plain": [
       "count    5.000000\n",
       "mean     0.973333\n",
       "std      0.027889\n",
       "min      0.933333\n",
       "25%      0.966667\n",
       "50%      0.966667\n",
       "75%      1.000000\n",
       "max      1.000000\n",
       "dtype: float64"
      ]
     },
     "execution_count": 4,
     "metadata": {},
     "output_type": "execute_result"
    }
   ],
   "source": [
    "%pylab inline\n",
    "import pandas as pd\n",
    "from pandas import Series, DataFrame\n",
    "\n",
    "from sklearn.datasets import load_iris\n",
    "from sklearn.neighbors import KNeighborsClassifier\n",
    "from sklearn.model_selection import cross_val_score, KFold, StratifiedKFold, LeaveOneOut\n",
    "\n",
    "strategy = StratifiedKFold()\n",
    "\n",
    "iris = load_iris()\n",
    "X = DataFrame(iris.data, columns=iris.feature_names)\n",
    "y = Series(iris.target)\n",
    "\n",
    "model = KNeighborsClassifier()  # default: k=5\n",
    "\n",
    "results = cross_val_score(model, X, y, cv=strategy)  # divide into 5 parts\n",
    "Series(results).describe()"
   ]
  },
  {
   "cell_type": "code",
   "execution_count": 7,
   "metadata": {},
   "outputs": [
    {
     "name": "stdout",
     "output_type": "stream",
     "text": [
      "Populating the interactive namespace from numpy and matplotlib\n"
     ]
    },
    {
     "data": {
      "text/plain": [
       "count    3.000000\n",
       "mean     0.966667\n",
       "std      0.011547\n",
       "min      0.960000\n",
       "25%      0.960000\n",
       "50%      0.960000\n",
       "75%      0.970000\n",
       "max      0.980000\n",
       "dtype: float64"
      ]
     },
     "execution_count": 7,
     "metadata": {},
     "output_type": "execute_result"
    }
   ],
   "source": [
    "%pylab inline\n",
    "import pandas as pd\n",
    "from pandas import Series, DataFrame\n",
    "\n",
    "from sklearn.datasets import load_iris\n",
    "from sklearn.neighbors import KNeighborsClassifier\n",
    "from sklearn.model_selection import cross_val_score, KFold, StratifiedKFold, LeaveOneOut\n",
    "\n",
    "strategy = KFold(n_splits=3, shuffle=True)\n",
    "\n",
    "iris = load_iris()\n",
    "X = DataFrame(iris.data, columns=iris.feature_names)\n",
    "y = Series(iris.target)\n",
    "\n",
    "model = KNeighborsClassifier()  \n",
    "\n",
    "results = cross_val_score(model, X, y, cv=strategy)  # divide into 5 parts\n",
    "Series(results).describe()"
   ]
  },
  {
   "cell_type": "code",
   "execution_count": 8,
   "metadata": {
    "collapsed": true
   },
   "outputs": [
    {
     "name": "stdout",
     "output_type": "stream",
     "text": [
      "Populating the interactive namespace from numpy and matplotlib\n"
     ]
    },
    {
     "data": {
      "text/plain": [
       "count    150.000000\n",
       "mean       0.966667\n",
       "std        0.180107\n",
       "min        0.000000\n",
       "25%        1.000000\n",
       "50%        1.000000\n",
       "75%        1.000000\n",
       "max        1.000000\n",
       "dtype: float64"
      ]
     },
     "execution_count": 8,
     "metadata": {},
     "output_type": "execute_result"
    }
   ],
   "source": [
    "%pylab inline\n",
    "import pandas as pd\n",
    "from pandas import Series, DataFrame\n",
    "\n",
    "from sklearn.datasets import load_iris\n",
    "from sklearn.neighbors import KNeighborsClassifier\n",
    "from sklearn.model_selection import cross_val_score, KFold, StratifiedKFold, LeaveOneOut\n",
    "\n",
    "strategy = LeaveOneOut()\n",
    "\n",
    "iris = load_iris()\n",
    "X = DataFrame(iris.data, columns=iris.feature_names)\n",
    "y = Series(iris.target)\n",
    "\n",
    "# model = KNeighborsClassifier(n_neighbors=11)\n",
    "model = KNeighborsClassifier()  \n",
    "\n",
    "results = cross_val_score(model, X, y, cv=strategy)  # divide into 5 parts\n",
    "Series(results).describe()\n",
    "\n",
    "# Use a \"for\" loop to iterate over all k values from 1 to 23\n",
    "# Use cross_val_score and LeaveOneOut to identify the best\n",
    "# value of k (highest mean, lowest std, lowest k)"
   ]
  },
  {
   "cell_type": "code",
   "execution_count": null,
   "metadata": {},
   "outputs": [],
   "source": []
  }
 ],
 "metadata": {
  "kernelspec": {
   "display_name": "Python 3",
   "language": "python",
   "name": "python3"
  },
  "language_info": {
   "codemirror_mode": {
    "name": "ipython",
    "version": 3
   },
   "file_extension": ".py",
   "mimetype": "text/x-python",
   "name": "python",
   "nbconvert_exporter": "python",
   "pygments_lexer": "ipython3",
   "version": "3.7.6"
  }
 },
 "nbformat": 4,
 "nbformat_minor": 2
}
