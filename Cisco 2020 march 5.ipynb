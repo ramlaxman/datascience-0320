{
 "cells": [
  {
   "cell_type": "code",
   "execution_count": 1,
   "metadata": {},
   "outputs": [],
   "source": [
    "# train_test_split -- takes an X (inputs/examples) and y (outputs/answers)\n",
    "#  returns X_train, X_test, y_train, y_test\n",
    "#  train with X_train and y_train\n",
    "#  test with X_test and y_test\n",
    "#   we can check -- are the results (y_pred) the same as y_test?\n",
    "#   if not the same, how close?\n",
    "\n",
    "# cross_val_score -- function that does the same sort of testing\n",
    "#  as train_test_split, but we don't have to do as much.  We can\n",
    "#  swap out the algorithm for a different testing strategy\n",
    "\n",
    "# the default strategy is StratifiedKFold, which means: create n\n",
    "#  groups, each group *MUST* have at least one rep from each class\n",
    "#  (category)\n",
    "\n",
    "# another strategy is LeaveOneOut -- train with all but one\n",
    "#  of the data points, and test with one data point.  With n\n",
    "#  data points, we'll do n iterations, each giving 0/1 for \n",
    "#  successful prediction"
   ]
  },
  {
   "cell_type": "code",
   "execution_count": null,
   "metadata": {},
   "outputs": [],
   "source": [
    "%pylab inline\n",
    "import pandas as pd\n",
    "from pandas import Series, DataFrame\n",
    "\n"
   ]
  }
 ],
 "metadata": {
  "kernelspec": {
   "display_name": "Python 3",
   "language": "python",
   "name": "python3"
  },
  "language_info": {
   "codemirror_mode": {
    "name": "ipython",
    "version": 3
   },
   "file_extension": ".py",
   "mimetype": "text/x-python",
   "name": "python",
   "nbconvert_exporter": "python",
   "pygments_lexer": "ipython3",
   "version": "3.7.6"
  }
 },
 "nbformat": 4,
 "nbformat_minor": 2
}
